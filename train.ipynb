{
  "nbformat": 4,
  "nbformat_minor": 0,
  "metadata": {
    "colab": {
      "provenance": [],
      "gpuType": "T4"
    },
    "kernelspec": {
      "name": "python3",
      "display_name": "Python 3"
    },
    "language_info": {
      "name": "python"
    },
    "accelerator": "GPU"
  },
  "cells": [
    {
      "cell_type": "markdown",
      "source": [
        "# VIT_L_16 Baseline [CV: 0.9441 LB:0.832611]\n",
        "\n",
        "* 環境\n",
        "  * Teslta T4 (Google Colab)\n",
        "* 準備\n",
        "  * ダウンロードしたデータを`/content/drive/MyDrive/SIGNATE/FoodPackage/dataset/`以下に配置する(`DATA_DIR`設定と対応させる)\n",
        "\n",
        "* 出力結果\n",
        "  * 出力結果はGoogle Colabのランタイムが切れると消滅します。`OUT_DIR`の設定を適宜変えて出力先を指定できます。"
      ],
      "metadata": {
        "id": "Smq3tfK27ndT"
      }
    },
    {
      "cell_type": "code",
      "source": [
        "!nvidia-smi"
      ],
      "metadata": {
        "colab": {
          "base_uri": "https://localhost:8080/"
        },
        "id": "Itlno9iAzBbZ",
        "outputId": "7fa6d628-3ac5-45b2-d743-c2cad4d0a2a2"
      },
      "execution_count": null,
      "outputs": [
        {
          "output_type": "stream",
          "name": "stdout",
          "text": [
            "Thu Aug 17 17:05:58 2023       \n",
            "+-----------------------------------------------------------------------------+\n",
            "| NVIDIA-SMI 525.105.17   Driver Version: 525.105.17   CUDA Version: 12.0     |\n",
            "|-------------------------------+----------------------+----------------------+\n",
            "| GPU  Name        Persistence-M| Bus-Id        Disp.A | Volatile Uncorr. ECC |\n",
            "| Fan  Temp  Perf  Pwr:Usage/Cap|         Memory-Usage | GPU-Util  Compute M. |\n",
            "|                               |                      |               MIG M. |\n",
            "|===============================+======================+======================|\n",
            "|   0  Tesla T4            Off  | 00000000:00:04.0 Off |                    0 |\n",
            "| N/A   37C    P8     9W /  70W |      0MiB / 15360MiB |      0%      Default |\n",
            "|                               |                      |                  N/A |\n",
            "+-------------------------------+----------------------+----------------------+\n",
            "                                                                               \n",
            "+-----------------------------------------------------------------------------+\n",
            "| Processes:                                                                  |\n",
            "|  GPU   GI   CI        PID   Type   Process name                  GPU Memory |\n",
            "|        ID   ID                                                   Usage      |\n",
            "|=============================================================================|\n",
            "|  No running processes found                                                 |\n",
            "+-----------------------------------------------------------------------------+\n"
          ]
        }
      ]
    },
    {
      "cell_type": "code",
      "source": [
        "from google.colab import drive\n",
        "drive.mount('/content/drive')"
      ],
      "metadata": {
        "id": "9wQDsmlBZI0W",
        "colab": {
          "base_uri": "https://localhost:8080/"
        },
        "outputId": "a974db7d-1da1-468e-9601-f2ca5c9d234f"
      },
      "execution_count": null,
      "outputs": [
        {
          "output_type": "stream",
          "name": "stdout",
          "text": [
            "Mounted at /content/drive\n"
          ]
        }
      ]
    },
    {
      "cell_type": "code",
      "source": [
        "%%capture\n",
        "!pip install colorama\n",
        "!cp /content/drive/MyDrive/SIGNATE/FoodPackage/dataset/train.zip .\n",
        "!cp /content/drive/MyDrive/SIGNATE/FoodPackage/dataset/test.zip .\n",
        "!unzip train.zip\n",
        "!unzip test.zip"
      ],
      "metadata": {
        "id": "tdvtKF0Xa23d"
      },
      "execution_count": null,
      "outputs": []
    },
    {
      "cell_type": "markdown",
      "source": [
        "## Import"
      ],
      "metadata": {
        "id": "k6fwAoTJM6C9"
      }
    },
    {
      "cell_type": "code",
      "execution_count": null,
      "metadata": {
        "id": "debqpYL2YCVl"
      },
      "outputs": [],
      "source": [
        "import os, shutil\n",
        "\n",
        "#必要なライブラリのインポート\n",
        "import re, gc, sys\n",
        "import pandas as pd\n",
        "import numpy as np\n",
        "import matplotlib.pyplot as plt\n",
        "from glob import glob\n",
        "\n",
        "import warnings, random\n",
        "import cv2\n",
        "\n",
        "warnings.filterwarnings(\"ignore\")\n",
        "\n",
        "from sklearn.metrics import accuracy_score, roc_auc_score\n",
        "from sklearn.model_selection import StratifiedKFold\n",
        "\n",
        "import torch\n",
        "import torch.nn as nn\n",
        "import torch.nn.functional as F\n",
        "import torch.optim as optim\n",
        "from torch.utils.data import DataLoader, Dataset\n",
        "from torch.optim import lr_scheduler\n",
        "\n",
        "import torchvision\n",
        "from torchvision import transforms\n",
        "import torchvision.models as models\n",
        "from torch.cuda.amp import GradScaler\n",
        "\n",
        "import yaml\n",
        "from tqdm import tqdm\n",
        "import time\n",
        "import copy\n",
        "from collections import defaultdict\n",
        "\n",
        "from colorama import Fore, Back, Style\n",
        "b_ = Fore.BLUE\n",
        "y_ = Fore.YELLOW\n",
        "sr_ = Style.RESET_ALL"
      ]
    },
    {
      "cell_type": "markdown",
      "source": [
        "## パラメータの設定"
      ],
      "metadata": {
        "id": "1Vj3FOtIMwVm"
      }
    },
    {
      "cell_type": "code",
      "source": [
        "ARGS = {'DATA_DIR': '/content/drive/MyDrive/SIGNATE/FoodPackage/dataset',\n",
        "  'OUT_DIR': './',\n",
        "  'model_name': 'vit_l_16',\n",
        "  'n_fold': 5,\n",
        "  'epochs': 4,\n",
        "  'criterion': 'CrossEntropy',\n",
        "  'image_size': (224, 224),\n",
        "  'train_batch_size': 16,\n",
        "  'test_batch_size': 32,\n",
        "  'seed': 2023,\n",
        "  'optimizer': 'AdamW',\n",
        "  'learning_rate': 1e-05,\n",
        "  'scheduler': 'CosineAnnealingLR',\n",
        "  'min_lr': 1e-06,\n",
        "  'T_max': 500,\n",
        "  'n_accumulate': 1,\n",
        "  'clip_grad_norm': 'None',\n",
        "  'apex': True,\n",
        "  'num_classes': 2,\n",
        "  'device': torch.device(\"cuda:0\" if torch.cuda.is_available() else \"cpu\")\n",
        "  }\n",
        "ARGS"
      ],
      "metadata": {
        "id": "U71zKHyzmQYI",
        "colab": {
          "base_uri": "https://localhost:8080/"
        },
        "outputId": "3aa44024-f89d-4213-9699-8ddc5306df6b"
      },
      "execution_count": null,
      "outputs": [
        {
          "output_type": "execute_result",
          "data": {
            "text/plain": [
              "{'DATA_DIR': '/content/drive/MyDrive/SIGNATE/FoodPackage/dataset',\n",
              " 'OUT_DIR': './',\n",
              " 'model_name': 'vit_l_16',\n",
              " 'n_fold': 5,\n",
              " 'epochs': 4,\n",
              " 'criterion': 'CrossEntropy',\n",
              " 'image_size': (224, 224),\n",
              " 'train_batch_size': 16,\n",
              " 'test_batch_size': 32,\n",
              " 'seed': 2023,\n",
              " 'optimizer': 'AdamW',\n",
              " 'learning_rate': 1e-05,\n",
              " 'scheduler': 'CosineAnnealingLR',\n",
              " 'min_lr': 1e-06,\n",
              " 'T_max': 500,\n",
              " 'n_accumulate': 1,\n",
              " 'clip_grad_norm': 'None',\n",
              " 'apex': True,\n",
              " 'num_classes': 2,\n",
              " 'device': device(type='cuda', index=0)}"
            ]
          },
          "metadata": {},
          "execution_count": 5
        }
      ]
    },
    {
      "cell_type": "code",
      "source": [
        "def get_logger(filename):\n",
        "    from logging import getLogger, INFO, StreamHandler, FileHandler, Formatter\n",
        "    logger = getLogger(__name__)\n",
        "    logger.setLevel(INFO)\n",
        "    handler2 = FileHandler(filename=f\"{filename}.log\")\n",
        "    handler2.setFormatter(Formatter(\"%(message)s\"))\n",
        "    logger.addHandler(handler2)\n",
        "    return logger\n",
        "\n",
        "#再現性を出すために必要な関数となります\n",
        "def worker_init_fn(worker_id):\n",
        "    torch.manual_seed(worker_id)\n",
        "    random.seed(worker_id)\n",
        "    np.random.seed(worker_id)\n",
        "    torch.cuda.manual_seed(worker_id)\n",
        "    os.environ['PYTHONHASHSEED'] = str(worker_id)\n",
        "\n",
        "def set_seed(seed=42):\n",
        "    '''Sets the seed of the entire notebook so results are the same every time we run.\n",
        "    This is for REPRODUCIBILITY.'''\n",
        "    random.seed(seed)\n",
        "    np.random.seed(seed)\n",
        "    torch.manual_seed(seed)\n",
        "    torch.cuda.manual_seed(seed)\n",
        "    torch.cuda.manual_seed_all(seed)\n",
        "    # When running on the CuDNN backend, two further options must be set\n",
        "    torch.backends.cudnn.deterministic = True\n",
        "    torch.backends.cudnn.benchmark = False\n",
        "    # Set a fixed value for the hash seed\n",
        "    os.environ['PYTHONHASHSEED'] = str(seed)\n",
        "\n",
        "\n",
        "LOGGER = get_logger(ARGS['OUT_DIR']+'train')\n",
        "set_seed(ARGS[\"seed\"])"
      ],
      "metadata": {
        "id": "GnpgLiIkY7fR"
      },
      "execution_count": null,
      "outputs": []
    },
    {
      "cell_type": "markdown",
      "source": [
        "## Create Folds"
      ],
      "metadata": {
        "id": "2u1PXeD9n4X5"
      }
    },
    {
      "cell_type": "code",
      "source": [
        "def create_folds(data, num_splits, seed):\n",
        "    data[\"kfold\"] = -1\n",
        "\n",
        "    mskf = StratifiedKFold(n_splits=num_splits, shuffle=True, random_state=seed)\n",
        "    labels = [\"label\"]\n",
        "    data_labels = data[labels].values\n",
        "\n",
        "    for f, (t_, v_) in enumerate(mskf.split(data, data_labels)):\n",
        "        data.loc[v_, \"kfold\"] = f\n",
        "\n",
        "    return data\n",
        "\n",
        "train = pd.read_csv(f\"{ARGS['DATA_DIR']}/train.csv\")\n",
        "train = create_folds(train, num_splits=ARGS[\"n_fold\"], seed=ARGS[\"seed\"])\n",
        "print(\"Folds created successfully\")\n",
        "\n",
        "train.head()"
      ],
      "metadata": {
        "id": "PO-efyDvY7nu",
        "colab": {
          "base_uri": "https://localhost:8080/",
          "height": 224
        },
        "outputId": "c3adf131-18f4-4f7a-d476-7476f4b4c19d"
      },
      "execution_count": null,
      "outputs": [
        {
          "output_type": "stream",
          "name": "stdout",
          "text": [
            "Folds created successfully\n"
          ]
        },
        {
          "output_type": "execute_result",
          "data": {
            "text/plain": [
              "  image_name  label  kfold\n",
              "0   0000.png      0      0\n",
              "1   0001.png      1      3\n",
              "2   0002.png      1      2\n",
              "3   0003.png      1      1\n",
              "4   0004.png      0      0"
            ],
            "text/html": [
              "\n",
              "  <div id=\"df-48f15616-9419-4301-8df2-5ad9d33d76c8\" class=\"colab-df-container\">\n",
              "    <div>\n",
              "<style scoped>\n",
              "    .dataframe tbody tr th:only-of-type {\n",
              "        vertical-align: middle;\n",
              "    }\n",
              "\n",
              "    .dataframe tbody tr th {\n",
              "        vertical-align: top;\n",
              "    }\n",
              "\n",
              "    .dataframe thead th {\n",
              "        text-align: right;\n",
              "    }\n",
              "</style>\n",
              "<table border=\"1\" class=\"dataframe\">\n",
              "  <thead>\n",
              "    <tr style=\"text-align: right;\">\n",
              "      <th></th>\n",
              "      <th>image_name</th>\n",
              "      <th>label</th>\n",
              "      <th>kfold</th>\n",
              "    </tr>\n",
              "  </thead>\n",
              "  <tbody>\n",
              "    <tr>\n",
              "      <th>0</th>\n",
              "      <td>0000.png</td>\n",
              "      <td>0</td>\n",
              "      <td>0</td>\n",
              "    </tr>\n",
              "    <tr>\n",
              "      <th>1</th>\n",
              "      <td>0001.png</td>\n",
              "      <td>1</td>\n",
              "      <td>3</td>\n",
              "    </tr>\n",
              "    <tr>\n",
              "      <th>2</th>\n",
              "      <td>0002.png</td>\n",
              "      <td>1</td>\n",
              "      <td>2</td>\n",
              "    </tr>\n",
              "    <tr>\n",
              "      <th>3</th>\n",
              "      <td>0003.png</td>\n",
              "      <td>1</td>\n",
              "      <td>1</td>\n",
              "    </tr>\n",
              "    <tr>\n",
              "      <th>4</th>\n",
              "      <td>0004.png</td>\n",
              "      <td>0</td>\n",
              "      <td>0</td>\n",
              "    </tr>\n",
              "  </tbody>\n",
              "</table>\n",
              "</div>\n",
              "    <div class=\"colab-df-buttons\">\n",
              "\n",
              "  <div class=\"colab-df-container\">\n",
              "    <button class=\"colab-df-convert\" onclick=\"convertToInteractive('df-48f15616-9419-4301-8df2-5ad9d33d76c8')\"\n",
              "            title=\"Convert this dataframe to an interactive table.\"\n",
              "            style=\"display:none;\">\n",
              "\n",
              "  <svg xmlns=\"http://www.w3.org/2000/svg\" height=\"24px\" viewBox=\"0 -960 960 960\">\n",
              "    <path d=\"M120-120v-720h720v720H120Zm60-500h600v-160H180v160Zm220 220h160v-160H400v160Zm0 220h160v-160H400v160ZM180-400h160v-160H180v160Zm440 0h160v-160H620v160ZM180-180h160v-160H180v160Zm440 0h160v-160H620v160Z\"/>\n",
              "  </svg>\n",
              "    </button>\n",
              "\n",
              "  <style>\n",
              "    .colab-df-container {\n",
              "      display:flex;\n",
              "      gap: 12px;\n",
              "    }\n",
              "\n",
              "    .colab-df-convert {\n",
              "      background-color: #E8F0FE;\n",
              "      border: none;\n",
              "      border-radius: 50%;\n",
              "      cursor: pointer;\n",
              "      display: none;\n",
              "      fill: #1967D2;\n",
              "      height: 32px;\n",
              "      padding: 0 0 0 0;\n",
              "      width: 32px;\n",
              "    }\n",
              "\n",
              "    .colab-df-convert:hover {\n",
              "      background-color: #E2EBFA;\n",
              "      box-shadow: 0px 1px 2px rgba(60, 64, 67, 0.3), 0px 1px 3px 1px rgba(60, 64, 67, 0.15);\n",
              "      fill: #174EA6;\n",
              "    }\n",
              "\n",
              "    .colab-df-buttons div {\n",
              "      margin-bottom: 4px;\n",
              "    }\n",
              "\n",
              "    [theme=dark] .colab-df-convert {\n",
              "      background-color: #3B4455;\n",
              "      fill: #D2E3FC;\n",
              "    }\n",
              "\n",
              "    [theme=dark] .colab-df-convert:hover {\n",
              "      background-color: #434B5C;\n",
              "      box-shadow: 0px 1px 3px 1px rgba(0, 0, 0, 0.15);\n",
              "      filter: drop-shadow(0px 1px 2px rgba(0, 0, 0, 0.3));\n",
              "      fill: #FFFFFF;\n",
              "    }\n",
              "  </style>\n",
              "\n",
              "    <script>\n",
              "      const buttonEl =\n",
              "        document.querySelector('#df-48f15616-9419-4301-8df2-5ad9d33d76c8 button.colab-df-convert');\n",
              "      buttonEl.style.display =\n",
              "        google.colab.kernel.accessAllowed ? 'block' : 'none';\n",
              "\n",
              "      async function convertToInteractive(key) {\n",
              "        const element = document.querySelector('#df-48f15616-9419-4301-8df2-5ad9d33d76c8');\n",
              "        const dataTable =\n",
              "          await google.colab.kernel.invokeFunction('convertToInteractive',\n",
              "                                                    [key], {});\n",
              "        if (!dataTable) return;\n",
              "\n",
              "        const docLinkHtml = 'Like what you see? Visit the ' +\n",
              "          '<a target=\"_blank\" href=https://colab.research.google.com/notebooks/data_table.ipynb>data table notebook</a>'\n",
              "          + ' to learn more about interactive tables.';\n",
              "        element.innerHTML = '';\n",
              "        dataTable['output_type'] = 'display_data';\n",
              "        await google.colab.output.renderOutput(dataTable, element);\n",
              "        const docLink = document.createElement('div');\n",
              "        docLink.innerHTML = docLinkHtml;\n",
              "        element.appendChild(docLink);\n",
              "      }\n",
              "    </script>\n",
              "  </div>\n",
              "\n",
              "\n",
              "<div id=\"df-3a88be7d-8cd6-4be3-9e45-ac41b4b7ced6\">\n",
              "  <button class=\"colab-df-quickchart\" onclick=\"quickchart('df-3a88be7d-8cd6-4be3-9e45-ac41b4b7ced6')\"\n",
              "            title=\"Suggest charts.\"\n",
              "            style=\"display:none;\">\n",
              "\n",
              "<svg xmlns=\"http://www.w3.org/2000/svg\" height=\"24px\"viewBox=\"0 0 24 24\"\n",
              "     width=\"24px\">\n",
              "    <g>\n",
              "        <path d=\"M19 3H5c-1.1 0-2 .9-2 2v14c0 1.1.9 2 2 2h14c1.1 0 2-.9 2-2V5c0-1.1-.9-2-2-2zM9 17H7v-7h2v7zm4 0h-2V7h2v10zm4 0h-2v-4h2v4z\"/>\n",
              "    </g>\n",
              "</svg>\n",
              "  </button>\n",
              "\n",
              "<style>\n",
              "  .colab-df-quickchart {\n",
              "    background-color: #E8F0FE;\n",
              "    border: none;\n",
              "    border-radius: 50%;\n",
              "    cursor: pointer;\n",
              "    display: none;\n",
              "    fill: #1967D2;\n",
              "    height: 32px;\n",
              "    padding: 0 0 0 0;\n",
              "    width: 32px;\n",
              "  }\n",
              "\n",
              "  .colab-df-quickchart:hover {\n",
              "    background-color: #E2EBFA;\n",
              "    box-shadow: 0px 1px 2px rgba(60, 64, 67, 0.3), 0px 1px 3px 1px rgba(60, 64, 67, 0.15);\n",
              "    fill: #174EA6;\n",
              "  }\n",
              "\n",
              "  [theme=dark] .colab-df-quickchart {\n",
              "    background-color: #3B4455;\n",
              "    fill: #D2E3FC;\n",
              "  }\n",
              "\n",
              "  [theme=dark] .colab-df-quickchart:hover {\n",
              "    background-color: #434B5C;\n",
              "    box-shadow: 0px 1px 3px 1px rgba(0, 0, 0, 0.15);\n",
              "    filter: drop-shadow(0px 1px 2px rgba(0, 0, 0, 0.3));\n",
              "    fill: #FFFFFF;\n",
              "  }\n",
              "</style>\n",
              "\n",
              "  <script>\n",
              "    async function quickchart(key) {\n",
              "      const charts = await google.colab.kernel.invokeFunction(\n",
              "          'suggestCharts', [key], {});\n",
              "    }\n",
              "    (() => {\n",
              "      let quickchartButtonEl =\n",
              "        document.querySelector('#df-3a88be7d-8cd6-4be3-9e45-ac41b4b7ced6 button');\n",
              "      quickchartButtonEl.style.display =\n",
              "        google.colab.kernel.accessAllowed ? 'block' : 'none';\n",
              "    })();\n",
              "  </script>\n",
              "</div>\n",
              "    </div>\n",
              "  </div>\n"
            ]
          },
          "metadata": {},
          "execution_count": 7
        }
      ]
    },
    {
      "cell_type": "code",
      "source": [
        "train[\"label\"].value_counts()"
      ],
      "metadata": {
        "id": "oQNg8cPJY7sr",
        "colab": {
          "base_uri": "https://localhost:8080/"
        },
        "outputId": "57a0d65d-0ae9-482b-a7ba-710d118a7cdd"
      },
      "execution_count": null,
      "outputs": [
        {
          "output_type": "execute_result",
          "data": {
            "text/plain": [
              "1    1182\n",
              "0     994\n",
              "Name: label, dtype: int64"
            ]
          },
          "metadata": {},
          "execution_count": 8
        }
      ]
    },
    {
      "cell_type": "code",
      "source": [
        "train['kfold'].value_counts()"
      ],
      "metadata": {
        "id": "l05WcTgMn9-A",
        "colab": {
          "base_uri": "https://localhost:8080/"
        },
        "outputId": "ac68dc91-c050-40fc-86f7-b7b117823fc2"
      },
      "execution_count": null,
      "outputs": [
        {
          "output_type": "execute_result",
          "data": {
            "text/plain": [
              "0    436\n",
              "3    435\n",
              "2    435\n",
              "1    435\n",
              "4    435\n",
              "Name: kfold, dtype: int64"
            ]
          },
          "metadata": {},
          "execution_count": 9
        }
      ]
    },
    {
      "cell_type": "markdown",
      "source": [
        "## 画像の読み込みと前処理"
      ],
      "metadata": {
        "id": "wr0HntSeZkSs"
      }
    },
    {
      "cell_type": "code",
      "source": [
        "class CustomDataset(Dataset):\n",
        "    def __init__(self, df, transform, data_type):\n",
        "        self.df = df\n",
        "        self.data_type = data_type\n",
        "\n",
        "        if self.data_type == \"train\":\n",
        "            self.image_paths = df['image_name']\n",
        "            self.labels = df['label']\n",
        "        if self.data_type == \"test\":\n",
        "            self.image_paths = df[0]\n",
        "\n",
        "        self.transform= transform\n",
        "\n",
        "    def __len__(self):\n",
        "        return len(self.df)\n",
        "\n",
        "    def __getitem__(self, index: int):\n",
        "        image_path = self.image_paths[index]\n",
        "\n",
        "        if self.data_type == \"train\":\n",
        "            image = cv2.imread(f\"/content/train/{image_path}\")\n",
        "            image = cv2.cvtColor(image, cv2.COLOR_BGR2RGB)\n",
        "\n",
        "            label = self.labels[index]\n",
        "            label = torch.tensor(label, dtype=torch.long)\n",
        "\n",
        "            image = self.transform(image=image)[\"image\"]\n",
        "            return image, label\n",
        "\n",
        "        if self.data_type == \"test\":\n",
        "            image = cv2.imread(f\"/content/test/{image_path}\")\n",
        "            image = cv2.cvtColor(image, cv2.COLOR_BGR2RGB)\n",
        "\n",
        "            image = self.transform(image=image)[\"image\"]\n",
        "\n",
        "            return image"
      ],
      "metadata": {
        "id": "6Nm6zx49Y7vS"
      },
      "execution_count": null,
      "outputs": []
    },
    {
      "cell_type": "code",
      "source": [
        "import albumentations as albu\n",
        "from albumentations.pytorch import transforms as AT\n",
        "\n",
        "# Augumentation用\n",
        "image_transform = albu.Compose([\n",
        "    albu.Resize(ARGS[\"image_size\"][0], ARGS[\"image_size\"][1]),\n",
        "    # albu.HorizontalFlip(p=0.5),\n",
        "    # albu.VerticalFlip(p=0.5),\n",
        "    # albu.RandomBrightnessContrast(p=0.3),\n",
        "    # albu.RandomGamma(gamma_limit=(85, 115), p=0.3),\n",
        "    # albu.ShiftScaleRotate(shift_limit=0.1, scale_limit=0.10, rotate_limit=45, p=0.5),\n",
        "    albu.Normalize((0.5, 0.5, 0.5), (0.5, 0.5, 0.5)),\n",
        "    AT.ToTensorV2()\n",
        "])\n"
      ],
      "metadata": {
        "id": "fsBvDpfZZmQn"
      },
      "execution_count": null,
      "outputs": []
    },
    {
      "cell_type": "markdown",
      "source": [
        "## 学習用関数定義\n",
        "`torch.cuda.amp.autocast(enabled=ARGS[\"apex\"]):`を入れると計算の高速化とメモリの節約ができます。"
      ],
      "metadata": {
        "id": "7bu39caaZ8vR"
      }
    },
    {
      "cell_type": "code",
      "source": [
        "def train_one_epoch(model, optimizer, train_loader, device, epoch):\n",
        "    model.train()\n",
        "    dataset_size = 0\n",
        "    running_loss = 0.0\n",
        "    running_score = []\n",
        "    running_score_y = []\n",
        "    scaler = GradScaler(enabled=ARGS[\"apex\"])\n",
        "\n",
        "    train_loss = []\n",
        "    bar = tqdm(enumerate(train_loader), total=len(train_loader))\n",
        "    for step, (images, targets) in bar:\n",
        "      images = images.to(device)\n",
        "      targets = targets.to(device)\n",
        "\n",
        "      batch_size = targets.size(0)\n",
        "      with torch.cuda.amp.autocast(enabled=ARGS[\"apex\"]):\n",
        "          outputs = model(images)\n",
        "          loss = criterion(ARGS, outputs, targets)\n",
        "\n",
        "      scaler.scale(loss).backward()\n",
        "\n",
        "      if ARGS[\"clip_grad_norm\"] != \"None\":\n",
        "          grad_norm = torch.nn.utils.clip_grad_norm_(model.parameters(), ARGS[\"clip_grad_norm\"])\n",
        "      else:\n",
        "          grad_norm = None\n",
        "\n",
        "      scaler.step(optimizer)\n",
        "      scaler.update()\n",
        "\n",
        "      optimizer.zero_grad()\n",
        "\n",
        "      if scheduler is not None:\n",
        "          scheduler.step()\n",
        "\n",
        "      train_loss.append(loss.item())\n",
        "\n",
        "      running_loss += (loss.item() * batch_size)\n",
        "      dataset_size += batch_size\n",
        "\n",
        "      epoch_loss = running_loss / dataset_size\n",
        "\n",
        "      running_score.append(outputs.detach().cpu().numpy())\n",
        "      running_score_y.append(targets.detach().cpu().numpy())\n",
        "\n",
        "      score = get_score(running_score_y, running_score)\n",
        "\n",
        "      bar.set_postfix(Epoch=epoch, Train_Loss=epoch_loss,\n",
        "                      Train_Acc=score[0],\n",
        "                      Train_Auc=score[1],\n",
        "                      LR=optimizer.param_groups[0]['lr']\n",
        "                      )\n",
        "    gc.collect()\n",
        "    return epoch_loss, score\n",
        "\n"
      ],
      "metadata": {
        "id": "pDXcr9owsjgP"
      },
      "execution_count": null,
      "outputs": []
    },
    {
      "cell_type": "code",
      "source": [
        "\n",
        "@torch.no_grad()\n",
        "def valid_one_epoch(args, model, optimizer, valid_loader, epoch):\n",
        "    model.eval()\n",
        "\n",
        "    dataset_size = 0\n",
        "    running_loss = 0.0\n",
        "    preds = []\n",
        "    valid_targets = []\n",
        "    softmax = nn.Softmax()\n",
        "\n",
        "    bar = tqdm(enumerate(valid_loader), total=len(valid_loader))\n",
        "    for step, (images, targets) in enumerate(valid_loader):\n",
        "      images = images.to(args[\"device\"])\n",
        "      targets = targets.to(args[\"device\"])\n",
        "      batch_size = targets.size(0)\n",
        "      with torch.no_grad():\n",
        "        outputs = model(images)\n",
        "        predict = outputs.softmax(dim=1)\n",
        "        loss = criterion(args, outputs, targets)\n",
        "\n",
        "      running_loss += (loss.item() * batch_size)\n",
        "      dataset_size += batch_size\n",
        "\n",
        "      epoch_loss = running_loss / dataset_size\n",
        "\n",
        "      preds.append(predict.detach().cpu().numpy())\n",
        "      valid_targets.append(targets.detach().cpu().numpy())\n",
        "\n",
        "      if len(set(np.concatenate(valid_targets))) == 1:\n",
        "          continue\n",
        "      score = get_score(valid_targets, preds)\n",
        "\n",
        "      bar.set_postfix(Epoch=epoch, Valid_Loss=epoch_loss,\n",
        "                      Valid_Acc=score[0],\n",
        "                      Valid_Auc=score[1],\n",
        "                      LR=optimizer.param_groups[0]['lr'])\n",
        "\n",
        "    return epoch_loss, preds, valid_targets, score\n"
      ],
      "metadata": {
        "id": "MjXWVj3ZJW_8"
      },
      "execution_count": null,
      "outputs": []
    },
    {
      "cell_type": "code",
      "source": [
        "def one_fold(model, optimizer, schedulerr, device, num_epochs, fold):\n",
        "\n",
        "    if torch.cuda.is_available():\n",
        "        print(\"[INFO] Using GPU: {}\\n\".format(torch.cuda.get_device_name()))\n",
        "\n",
        "    start = time.time()\n",
        "    best_model_wts = copy.deepcopy(model.state_dict())\n",
        "    best_epoch_score = np.inf\n",
        "    best_prediction = None\n",
        "\n",
        "    best_score = -np.inf\n",
        "    for epoch in range(1, 1+num_epochs):\n",
        "      train_epoch_loss, train_score = train_one_epoch(model, optimizer,\n",
        "                                              train_loader=train_loader,\n",
        "                                              device=device, epoch=epoch)\n",
        "\n",
        "      train_acc, train_auc = train_score\n",
        "\n",
        "      val_epoch_loss, predictions, valid_targets, valid_score = valid_one_epoch(ARGS,\n",
        "                                                                                model,\n",
        "                                                                                optimizer,\n",
        "                                                                                valid_loader,\n",
        "                                                                                epoch=epoch)\n",
        "      valid_acc, valid_auc = valid_score\n",
        "\n",
        "      LOGGER.info(f'Epoch {epoch} - avg_train_loss: {train_epoch_loss:.4f}  avg_val_loss: {val_epoch_loss:.4f}')\n",
        "      LOGGER.info(f'Epoch {epoch} - Train Acc: {train_acc:.4f}  Train Auc: {train_auc:.4f}  Valid Acc: {valid_acc:.4f}  Valid Auc: {valid_auc:.4f}')\n",
        "\n",
        "      if valid_auc >= best_score:\n",
        "        best_score = valid_auc\n",
        "\n",
        "        print(f\"{b_}Validation Score Improved ({best_epoch_score} ---> {valid_auc})\")\n",
        "        best_epoch_score = valid_auc\n",
        "        best_model_wts = copy.deepcopy(model.state_dict())\n",
        "        # PATH = f\"Score-Fold-{fold}.bin\"\n",
        "        PATH = ARGS[\"OUT_DIR\"] + f\"Score-Fold-{fold}.bin\"\n",
        "        torch.save(model.state_dict(), PATH)\n",
        "        # Save a model file from the current directory\n",
        "        print(f\"Model Saved{sr_}\")\n",
        "\n",
        "        best_prediction = np.concatenate(predictions, axis=0)[:,1]\n",
        "\n",
        "    end = time.time()\n",
        "    time_elapsed = end - start\n",
        "\n",
        "    LOGGER.info('Training complete in {:.0f}h {:.0f}m {:.0f}s'.format(\n",
        "        time_elapsed // 3600, (time_elapsed % 3600) // 60, (time_elapsed % 3600) % 60))\n",
        "    LOGGER.info(\"Best Score: {:.4f}\".format(best_epoch_score))\n",
        "\n",
        "    # load best model weights\n",
        "    model.load_state_dict(best_model_wts)\n",
        "    return model, best_prediction, valid_targets"
      ],
      "metadata": {
        "id": "4XYmBp13aDAU"
      },
      "execution_count": null,
      "outputs": []
    },
    {
      "cell_type": "markdown",
      "source": [
        "## モデルや損失関数、最適化関数等の定義"
      ],
      "metadata": {
        "id": "wMs0JLFENDu9"
      }
    },
    {
      "cell_type": "code",
      "source": [
        "def create_model(args):\n",
        "    model = models.vit_l_16(pretrained=True)\n",
        "    model.heads[0] = torch.nn.Linear(in_features=model.heads[0].in_features, out_features=args[\"num_classes\"], bias=True)\n",
        "    return model\n",
        "\n",
        "def criterion(args, outputs, labels, class_weights=None):\n",
        "    if args['criterion'] == 'CrossEntropy':\n",
        "      return nn.CrossEntropyLoss(weight=class_weights).to(args[\"device\"])(outputs, labels)\n",
        "    elif args['criterion'] == \"None\":\n",
        "        return None\n",
        "\n",
        "def fetch_optimizer(optimizer_parameters, lr, betas, optimizer_name=\"Adam\"):\n",
        "    if optimizer_name == \"Adam\":\n",
        "        optimizer = optim.Adam(optimizer_parameters, lr=lr)\n",
        "    elif optimizer_name == \"AdamW\":\n",
        "        optimizer = optim.AdamW(optimizer_parameters, lr=lr, betas=betas)\n",
        "    return optimizer\n",
        "\n",
        "def fetch_scheduler(args, train_size, optimizer):\n",
        "\n",
        "    if args['scheduler'] == 'CosineAnnealingLR':\n",
        "        scheduler = lr_scheduler.CosineAnnealingLR(optimizer,T_max=args['T_max'],\n",
        "                                                   eta_min=args['min_lr'])\n",
        "    elif args['scheduler'] == 'CosineAnnealingWarmRestarts':\n",
        "        scheduler = lr_scheduler.CosineAnnealingWarmRestarts(optimizer,T_0=args['T_0'],\n",
        "                                                             eta_min=args['min_lr'])\n",
        "    elif args['scheduler'] == \"None\":\n",
        "        scheduler = None\n",
        "\n",
        "    return scheduler\n",
        "\n",
        "def get_score(y_trues, y_preds):\n",
        "\n",
        "    predict_list, targets_list = np.concatenate(y_preds, axis=0), np.concatenate(y_trues)\n",
        "    predict_list_proba = predict_list.copy()[:, 1]\n",
        "    predict_list = predict_list.argmax(axis=1)\n",
        "\n",
        "    accuracy = accuracy_score(predict_list, targets_list)\n",
        "    auc_score = roc_auc_score(targets_list, predict_list_proba)\n",
        "\n",
        "    return (accuracy, auc_score)\n",
        "\n",
        "def prepare_loaders(args, train, image_transform, fold):\n",
        "    df_train = train[train.kfold != fold].reset_index(drop=True)\n",
        "    df_valid = train[train.kfold == fold].reset_index(drop=True)\n",
        "\n",
        "    train_dataset = CustomDataset(df_train, image_transform, data_type=\"train\")\n",
        "    valid_dataset = CustomDataset(df_valid, image_transform, data_type=\"train\")\n",
        "\n",
        "    train_loader = DataLoader(train_dataset, batch_size=args['train_batch_size'],\n",
        "                              worker_init_fn=worker_init_fn(args[\"seed\"]),\n",
        "                              num_workers=4,\n",
        "                              shuffle=True, pin_memory=True, drop_last=True)\n",
        "    valid_loader = DataLoader(valid_dataset, batch_size=args['test_batch_size'],\n",
        "                              num_workers=4,\n",
        "                              shuffle=False, pin_memory=True)\n",
        "\n",
        "    return train_loader, valid_loader"
      ],
      "metadata": {
        "id": "0wBVejHmfU2l"
      },
      "execution_count": null,
      "outputs": []
    },
    {
      "cell_type": "code",
      "source": [
        "train_copy = train.copy()\n",
        "LOGGER.info(ARGS)\n",
        "for fold in range(0, ARGS['n_fold']):\n",
        "    print(f\"{y_}====== Fold: {fold} ======{sr_}\")\n",
        "    LOGGER.info(f\"========== fold: {fold} training ==========\")\n",
        "\n",
        "    # Create Dataloaders\n",
        "    train_loader, valid_loader = prepare_loaders(args=ARGS, train=train, image_transform=image_transform, fold=fold)\n",
        "\n",
        "    model = create_model(ARGS)\n",
        "    model = model.to(ARGS[\"device\"])\n",
        "\n",
        "    #損失関数・最適化関数の定義\n",
        "    optimizer = fetch_optimizer(model.parameters(), optimizer_name=ARGS[\"optimizer\"], lr=ARGS[\"learning_rate\"], betas=(0.9, 0.999))\n",
        "\n",
        "    scheduler = fetch_scheduler(args=ARGS, train_size=len(train_loader), optimizer=optimizer)\n",
        "\n",
        "    model, predictions, targets = one_fold(model, optimizer, scheduler, device=ARGS[\"device\"], num_epochs=ARGS[\"epochs\"], fold=fold)\n",
        "\n",
        "    train_copy.loc[train_copy[train_copy.kfold == fold].index, \"oof\"] = predictions\n",
        "\n",
        "    del model, train_loader, valid_loader\n",
        "    _ = gc.collect()\n",
        "    torch.cuda.empty_cache()\n",
        "    print()\n",
        "\n",
        "scores = roc_auc_score(train_copy[\"label\"].values, train_copy[\"oof\"].values)\n",
        "LOGGER.info(f\"========== CV ==========\")\n",
        "LOGGER.info(f\"CV: {scores:.4f}\")"
      ],
      "metadata": {
        "id": "sjOsaXWeCwf-",
        "colab": {
          "base_uri": "https://localhost:8080/"
        },
        "outputId": "8e93fad9-ce85-4db7-d41a-11f1a04b461a"
      },
      "execution_count": null,
      "outputs": [
        {
          "output_type": "stream",
          "name": "stderr",
          "text": [
            "INFO:__main__:{'DATA_DIR': '/content/drive/MyDrive/SIGNATE/FoodPackage/dataset', 'OUT_DIR': './', 'model_name': 'vit_l_16', 'n_fold': 5, 'epochs': 4, 'criterion': 'CrossEntropy', 'image_size': (224, 224), 'train_batch_size': 16, 'test_batch_size': 32, 'seed': 2023, 'optimizer': 'AdamW', 'learning_rate': 1e-05, 'scheduler': 'CosineAnnealingLR', 'min_lr': 1e-06, 'T_max': 500, 'n_accumulate': 1, 'clip_grad_norm': 'None', 'apex': True, 'num_classes': 2, 'device': device(type='cuda', index=0)}\n",
            "INFO:__main__:========== fold: 0 training ==========\n"
          ]
        },
        {
          "output_type": "stream",
          "name": "stdout",
          "text": [
            "\u001b[33m====== Fold: 0 ======\u001b[0m\n"
          ]
        },
        {
          "output_type": "stream",
          "name": "stderr",
          "text": [
            "Downloading: \"https://download.pytorch.org/models/vit_l_16-852ce7e3.pth\" to /root/.cache/torch/hub/checkpoints/vit_l_16-852ce7e3.pth\n",
            "100%|██████████| 1.13G/1.13G [00:16<00:00, 74.9MB/s]\n"
          ]
        },
        {
          "output_type": "stream",
          "name": "stdout",
          "text": [
            "[INFO] Using GPU: Tesla T4\n",
            "\n"
          ]
        },
        {
          "output_type": "stream",
          "name": "stderr",
          "text": [
            "100%|██████████| 108/108 [01:08<00:00,  1.58it/s, Epoch=1, LR=9e-6, Train_Acc=0.764, Train_Auc=0.824, Train_Loss=0.5]\n",
            "  0%|          | 0/14 [00:17<?, ?it/s, Epoch=1, LR=9e-6, Valid_Acc=0.846, Valid_Auc=0.919, Valid_Loss=0.366]\n",
            "INFO:__main__:Epoch 1 - avg_train_loss: 0.5002  avg_val_loss: 0.3658\n",
            "INFO:__main__:Epoch 1 - Train Acc: 0.7645  Train Auc: 0.8242  Valid Acc: 0.8463  Valid Auc: 0.9188\n"
          ]
        },
        {
          "output_type": "stream",
          "name": "stdout",
          "text": [
            "\u001b[34mValidation Score Improved (inf ---> 0.9188134766660306)\n",
            "Model Saved\u001b[0m\n"
          ]
        },
        {
          "output_type": "stream",
          "name": "stderr",
          "text": [
            "100%|██████████| 108/108 [01:01<00:00,  1.75it/s, Epoch=2, LR=6.45e-6, Train_Acc=0.98, Train_Auc=0.995, Train_Loss=0.0773]\n",
            "  0%|          | 0/14 [00:18<?, ?it/s, Epoch=2, LR=6.45e-6, Valid_Acc=0.878, Valid_Auc=0.944, Valid_Loss=0.317]\n",
            "INFO:__main__:Epoch 2 - avg_train_loss: 0.0773  avg_val_loss: 0.3171\n",
            "INFO:__main__:Epoch 2 - Train Acc: 0.9797  Train Auc: 0.9953  Valid Acc: 0.8784  Valid Auc: 0.9436\n"
          ]
        },
        {
          "output_type": "stream",
          "name": "stdout",
          "text": [
            "\u001b[34mValidation Score Improved (0.9188134766660306 ---> 0.9435574496957361)\n",
            "Model Saved\u001b[0m\n"
          ]
        },
        {
          "output_type": "stream",
          "name": "stderr",
          "text": [
            "100%|██████████| 108/108 [01:02<00:00,  1.73it/s, Epoch=3, LR=3.48e-6, Train_Acc=0.999, Train_Auc=1, Train_Loss=0.00604]\n",
            "  0%|          | 0/14 [00:18<?, ?it/s, Epoch=3, LR=3.48e-6, Valid_Acc=0.869, Valid_Auc=0.946, Valid_Loss=0.359]\n",
            "INFO:__main__:Epoch 3 - avg_train_loss: 0.0060  avg_val_loss: 0.3593\n",
            "INFO:__main__:Epoch 3 - Train Acc: 0.9994  Train Auc: 1.0000  Valid Acc: 0.8693  Valid Auc: 0.9461\n"
          ]
        },
        {
          "output_type": "stream",
          "name": "stdout",
          "text": [
            "\u001b[34mValidation Score Improved (0.9435574496957361 ---> 0.9461442232258338)\n",
            "Model Saved\u001b[0m\n"
          ]
        },
        {
          "output_type": "stream",
          "name": "stderr",
          "text": [
            "100%|██████████| 108/108 [01:02<00:00,  1.72it/s, Epoch=4, LR=1.4e-6, Train_Acc=1, Train_Auc=1, Train_Loss=0.00126]\n",
            "  0%|          | 0/14 [00:19<?, ?it/s, Epoch=4, LR=1.4e-6, Valid_Acc=0.867, Valid_Auc=0.945, Valid_Loss=0.38]\n",
            "INFO:__main__:Epoch 4 - avg_train_loss: 0.0013  avg_val_loss: 0.3802\n",
            "INFO:__main__:Epoch 4 - Train Acc: 1.0000  Train Auc: 1.0000  Valid Acc: 0.8670  Valid Auc: 0.9453\n",
            "INFO:__main__:Training complete in 0h 5m 54s\n",
            "INFO:__main__:Best Score: 0.9461\n",
            "INFO:__main__:========== fold: 1 training ==========\n"
          ]
        },
        {
          "output_type": "stream",
          "name": "stdout",
          "text": [
            "\n",
            "\u001b[33m====== Fold: 1 ======\u001b[0m\n",
            "[INFO] Using GPU: Tesla T4\n",
            "\n"
          ]
        },
        {
          "output_type": "stream",
          "name": "stderr",
          "text": [
            "100%|██████████| 108/108 [01:03<00:00,  1.69it/s, Epoch=1, LR=9e-6, Train_Acc=0.762, Train_Auc=0.822, Train_Loss=0.498]\n",
            "  0%|          | 0/14 [00:17<?, ?it/s, Epoch=1, LR=9e-6, Valid_Acc=0.834, Valid_Auc=0.912, Valid_Loss=0.39]\n",
            "INFO:__main__:Epoch 1 - avg_train_loss: 0.4984  avg_val_loss: 0.3896\n",
            "INFO:__main__:Epoch 1 - Train Acc: 0.7616  Train Auc: 0.8219  Valid Acc: 0.8345  Valid Auc: 0.9119\n"
          ]
        },
        {
          "output_type": "stream",
          "name": "stdout",
          "text": [
            "\u001b[34mValidation Score Improved (inf ---> 0.9119325440763137)\n",
            "Model Saved\u001b[0m\n"
          ]
        },
        {
          "output_type": "stream",
          "name": "stderr",
          "text": [
            "100%|██████████| 108/108 [01:04<00:00,  1.68it/s, Epoch=2, LR=6.45e-6, Train_Acc=0.971, Train_Auc=0.995, Train_Loss=0.0882]\n",
            "  0%|          | 0/14 [00:17<?, ?it/s, Epoch=2, LR=6.45e-6, Valid_Acc=0.871, Valid_Auc=0.942, Valid_Loss=0.337]\n",
            "INFO:__main__:Epoch 2 - avg_train_loss: 0.0882  avg_val_loss: 0.3374\n",
            "INFO:__main__:Epoch 2 - Train Acc: 0.9711  Train Auc: 0.9953  Valid Acc: 0.8713  Valid Auc: 0.9419\n"
          ]
        },
        {
          "output_type": "stream",
          "name": "stdout",
          "text": [
            "\u001b[34mValidation Score Improved (0.9119325440763137 ---> 0.9419129546035262)\n",
            "Model Saved\u001b[0m\n"
          ]
        },
        {
          "output_type": "stream",
          "name": "stderr",
          "text": [
            "100%|██████████| 108/108 [01:04<00:00,  1.68it/s, Epoch=3, LR=3.48e-6, Train_Acc=0.999, Train_Auc=1, Train_Loss=0.00808]\n",
            "  0%|          | 0/14 [00:18<?, ?it/s, Epoch=3, LR=3.48e-6, Valid_Acc=0.88, Valid_Auc=0.948, Valid_Loss=0.373]\n",
            "INFO:__main__:Epoch 3 - avg_train_loss: 0.0081  avg_val_loss: 0.3726\n",
            "INFO:__main__:Epoch 3 - Train Acc: 0.9994  Train Auc: 1.0000  Valid Acc: 0.8805  Valid Auc: 0.9476\n"
          ]
        },
        {
          "output_type": "stream",
          "name": "stdout",
          "text": [
            "\u001b[34mValidation Score Improved (0.9419129546035262 ---> 0.9475555744825824)\n",
            "Model Saved\u001b[0m\n"
          ]
        },
        {
          "output_type": "stream",
          "name": "stderr",
          "text": [
            "100%|██████████| 108/108 [01:03<00:00,  1.70it/s, Epoch=4, LR=1.4e-6, Train_Acc=1, Train_Auc=1, Train_Loss=0.00196]\n",
            "  0%|          | 0/14 [00:17<?, ?it/s, Epoch=4, LR=1.4e-6, Valid_Acc=0.871, Valid_Auc=0.947, Valid_Loss=0.406]\n",
            "INFO:__main__:Epoch 4 - avg_train_loss: 0.0020  avg_val_loss: 0.4056\n",
            "INFO:__main__:Epoch 4 - Train Acc: 1.0000  Train Auc: 1.0000  Valid Acc: 0.8713  Valid Auc: 0.9468\n",
            "INFO:__main__:Training complete in 0h 5m 51s\n",
            "INFO:__main__:Best Score: 0.9476\n",
            "INFO:__main__:========== fold: 2 training ==========\n"
          ]
        },
        {
          "output_type": "stream",
          "name": "stdout",
          "text": [
            "\n",
            "\u001b[33m====== Fold: 2 ======\u001b[0m\n",
            "[INFO] Using GPU: Tesla T4\n",
            "\n"
          ]
        },
        {
          "output_type": "stream",
          "name": "stderr",
          "text": [
            "100%|██████████| 108/108 [01:05<00:00,  1.66it/s, Epoch=1, LR=9e-6, Train_Acc=0.74, Train_Auc=0.816, Train_Loss=0.508]\n",
            "  0%|          | 0/14 [00:18<?, ?it/s, Epoch=1, LR=9e-6, Valid_Acc=0.832, Valid_Auc=0.905, Valid_Loss=0.393]\n",
            "INFO:__main__:Epoch 1 - avg_train_loss: 0.5081  avg_val_loss: 0.3931\n",
            "INFO:__main__:Epoch 1 - Train Acc: 0.7396  Train Auc: 0.8157  Valid Acc: 0.8322  Valid Auc: 0.9048\n"
          ]
        },
        {
          "output_type": "stream",
          "name": "stdout",
          "text": [
            "\u001b[34mValidation Score Improved (inf ---> 0.9047994208329785)\n",
            "Model Saved\u001b[0m\n"
          ]
        },
        {
          "output_type": "stream",
          "name": "stderr",
          "text": [
            "100%|██████████| 108/108 [01:04<00:00,  1.68it/s, Epoch=2, LR=6.45e-6, Train_Acc=0.978, Train_Auc=0.997, Train_Loss=0.0777]\n",
            "  0%|          | 0/14 [00:17<?, ?it/s, Epoch=2, LR=6.45e-6, Valid_Acc=0.821, Valid_Auc=0.933, Valid_Loss=0.433]\n",
            "INFO:__main__:Epoch 2 - avg_train_loss: 0.0777  avg_val_loss: 0.4330\n",
            "INFO:__main__:Epoch 2 - Train Acc: 0.9780  Train Auc: 0.9967  Valid Acc: 0.8207  Valid Auc: 0.9325\n"
          ]
        },
        {
          "output_type": "stream",
          "name": "stdout",
          "text": [
            "\u001b[34mValidation Score Improved (0.9047994208329785 ---> 0.9325014905033643)\n",
            "Model Saved\u001b[0m\n"
          ]
        },
        {
          "output_type": "stream",
          "name": "stderr",
          "text": [
            "100%|██████████| 108/108 [01:05<00:00,  1.66it/s, Epoch=3, LR=3.48e-6, Train_Acc=0.999, Train_Auc=1, Train_Loss=0.00529]\n",
            "  0%|          | 0/14 [00:18<?, ?it/s, Epoch=3, LR=3.48e-6, Valid_Acc=0.864, Valid_Auc=0.938, Valid_Loss=0.421]\n",
            "INFO:__main__:Epoch 3 - avg_train_loss: 0.0053  avg_val_loss: 0.4213\n",
            "INFO:__main__:Epoch 3 - Train Acc: 0.9994  Train Auc: 1.0000  Valid Acc: 0.8644  Valid Auc: 0.9381\n"
          ]
        },
        {
          "output_type": "stream",
          "name": "stdout",
          "text": [
            "\u001b[34mValidation Score Improved (0.9325014905033643 ---> 0.9380802316668087)\n",
            "Model Saved\u001b[0m\n"
          ]
        },
        {
          "output_type": "stream",
          "name": "stderr",
          "text": [
            "100%|██████████| 108/108 [01:04<00:00,  1.68it/s, Epoch=4, LR=1.4e-6, Train_Acc=1, Train_Auc=1, Train_Loss=0.00129]\n",
            "  0%|          | 0/14 [00:19<?, ?it/s, Epoch=4, LR=1.4e-6, Valid_Acc=0.876, Valid_Auc=0.938, Valid_Loss=0.45]\n",
            "INFO:__main__:Epoch 4 - avg_train_loss: 0.0013  avg_val_loss: 0.4496\n",
            "INFO:__main__:Epoch 4 - Train Acc: 1.0000  Train Auc: 1.0000  Valid Acc: 0.8759  Valid Auc: 0.9383\n"
          ]
        },
        {
          "output_type": "stream",
          "name": "stdout",
          "text": [
            "\u001b[34mValidation Score Improved (0.9380802316668087 ---> 0.9383144536240524)\n"
          ]
        },
        {
          "output_type": "stream",
          "name": "stderr",
          "text": [
            "INFO:__main__:Training complete in 0h 6m 9s\n",
            "INFO:__main__:Best Score: 0.9383\n"
          ]
        },
        {
          "output_type": "stream",
          "name": "stdout",
          "text": [
            "Model Saved\u001b[0m\n"
          ]
        },
        {
          "output_type": "stream",
          "name": "stderr",
          "text": [
            "INFO:__main__:========== fold: 3 training ==========\n"
          ]
        },
        {
          "output_type": "stream",
          "name": "stdout",
          "text": [
            "\n",
            "\u001b[33m====== Fold: 3 ======\u001b[0m\n",
            "[INFO] Using GPU: Tesla T4\n",
            "\n"
          ]
        },
        {
          "output_type": "stream",
          "name": "stderr",
          "text": [
            "100%|██████████| 108/108 [01:06<00:00,  1.63it/s, Epoch=1, LR=9e-6, Train_Acc=0.741, Train_Auc=0.807, Train_Loss=0.518]\n",
            "  0%|          | 0/14 [00:17<?, ?it/s, Epoch=1, LR=9e-6, Valid_Acc=0.841, Valid_Auc=0.922, Valid_Loss=0.371]\n",
            "INFO:__main__:Epoch 1 - avg_train_loss: 0.5180  avg_val_loss: 0.3708\n",
            "INFO:__main__:Epoch 1 - Train Acc: 0.7413  Train Auc: 0.8069  Valid Acc: 0.8414  Valid Auc: 0.9218\n"
          ]
        },
        {
          "output_type": "stream",
          "name": "stdout",
          "text": [
            "\u001b[34mValidation Score Improved (inf ---> 0.9218124520909633)\n",
            "Model Saved\u001b[0m\n"
          ]
        },
        {
          "output_type": "stream",
          "name": "stderr",
          "text": [
            "100%|██████████| 108/108 [01:05<00:00,  1.65it/s, Epoch=2, LR=6.45e-6, Train_Acc=0.971, Train_Auc=0.994, Train_Loss=0.0916]\n",
            "  0%|          | 0/14 [00:17<?, ?it/s, Epoch=2, LR=6.45e-6, Valid_Acc=0.857, Valid_Auc=0.939, Valid_Loss=0.365]\n",
            "INFO:__main__:Epoch 2 - avg_train_loss: 0.0916  avg_val_loss: 0.3653\n",
            "INFO:__main__:Epoch 2 - Train Acc: 0.9711  Train Auc: 0.9944  Valid Acc: 0.8575  Valid Auc: 0.9386\n"
          ]
        },
        {
          "output_type": "stream",
          "name": "stdout",
          "text": [
            "\u001b[34mValidation Score Improved (0.9218124520909633 ---> 0.9386338472021123)\n",
            "Model Saved\u001b[0m\n"
          ]
        },
        {
          "output_type": "stream",
          "name": "stderr",
          "text": [
            "100%|██████████| 108/108 [01:04<00:00,  1.67it/s, Epoch=3, LR=3.48e-6, Train_Acc=0.998, Train_Auc=1, Train_Loss=0.0106]\n",
            "  0%|          | 0/14 [00:17<?, ?it/s, Epoch=3, LR=3.48e-6, Valid_Acc=0.876, Valid_Auc=0.953, Valid_Loss=0.32]\n",
            "INFO:__main__:Epoch 3 - avg_train_loss: 0.0106  avg_val_loss: 0.3197\n",
            "INFO:__main__:Epoch 3 - Train Acc: 0.9983  Train Auc: 1.0000  Valid Acc: 0.8759  Valid Auc: 0.9533\n"
          ]
        },
        {
          "output_type": "stream",
          "name": "stdout",
          "text": [
            "\u001b[34mValidation Score Improved (0.9386338472021123 ---> 0.9533046588876586)\n",
            "Model Saved\u001b[0m\n"
          ]
        },
        {
          "output_type": "stream",
          "name": "stderr",
          "text": [
            "100%|██████████| 108/108 [01:04<00:00,  1.66it/s, Epoch=4, LR=1.4e-6, Train_Acc=1, Train_Auc=1, Train_Loss=0.0026]\n",
            "  0%|          | 0/14 [00:17<?, ?it/s, Epoch=4, LR=1.4e-6, Valid_Acc=0.876, Valid_Auc=0.954, Valid_Loss=0.33]\n",
            "INFO:__main__:Epoch 4 - avg_train_loss: 0.0026  avg_val_loss: 0.3298\n",
            "INFO:__main__:Epoch 4 - Train Acc: 1.0000  Train Auc: 1.0000  Valid Acc: 0.8759  Valid Auc: 0.9539\n"
          ]
        },
        {
          "output_type": "stream",
          "name": "stdout",
          "text": [
            "\u001b[34mValidation Score Improved (0.9533046588876586 ---> 0.9539434460437781)\n"
          ]
        },
        {
          "output_type": "stream",
          "name": "stderr",
          "text": [
            "INFO:__main__:Training complete in 0h 6m 6s\n",
            "INFO:__main__:Best Score: 0.9539\n"
          ]
        },
        {
          "output_type": "stream",
          "name": "stdout",
          "text": [
            "Model Saved\u001b[0m\n"
          ]
        },
        {
          "output_type": "stream",
          "name": "stderr",
          "text": [
            "INFO:__main__:========== fold: 4 training ==========\n"
          ]
        },
        {
          "output_type": "stream",
          "name": "stdout",
          "text": [
            "\n",
            "\u001b[33m====== Fold: 4 ======\u001b[0m\n",
            "[INFO] Using GPU: Tesla T4\n",
            "\n"
          ]
        },
        {
          "output_type": "stream",
          "name": "stderr",
          "text": [
            "100%|██████████| 108/108 [01:05<00:00,  1.64it/s, Epoch=1, LR=9e-6, Train_Acc=0.749, Train_Auc=0.822, Train_Loss=0.501]\n",
            "  0%|          | 0/14 [00:17<?, ?it/s, Epoch=1, LR=9e-6, Valid_Acc=0.802, Valid_Auc=0.889, Valid_Loss=0.41]\n",
            "INFO:__main__:Epoch 1 - avg_train_loss: 0.5009  avg_val_loss: 0.4101\n",
            "INFO:__main__:Epoch 1 - Train Acc: 0.7488  Train Auc: 0.8222  Valid Acc: 0.8023  Valid Auc: 0.8895\n"
          ]
        },
        {
          "output_type": "stream",
          "name": "stdout",
          "text": [
            "\u001b[34mValidation Score Improved (inf ---> 0.8894642628819844)\n",
            "Model Saved\u001b[0m\n"
          ]
        },
        {
          "output_type": "stream",
          "name": "stderr",
          "text": [
            "100%|██████████| 108/108 [01:05<00:00,  1.65it/s, Epoch=2, LR=6.45e-6, Train_Acc=0.968, Train_Auc=0.994, Train_Loss=0.0981]\n",
            "  0%|          | 0/14 [00:17<?, ?it/s, Epoch=2, LR=6.45e-6, Valid_Acc=0.855, Valid_Auc=0.937, Valid_Loss=0.352]\n",
            "INFO:__main__:Epoch 2 - avg_train_loss: 0.0981  avg_val_loss: 0.3516\n",
            "INFO:__main__:Epoch 2 - Train Acc: 0.9682  Train Auc: 0.9938  Valid Acc: 0.8552  Valid Auc: 0.9375\n"
          ]
        },
        {
          "output_type": "stream",
          "name": "stdout",
          "text": [
            "\u001b[34mValidation Score Improved (0.8894642628819844 ---> 0.937476026083621)\n",
            "Model Saved\u001b[0m\n"
          ]
        },
        {
          "output_type": "stream",
          "name": "stderr",
          "text": [
            "100%|██████████| 108/108 [01:04<00:00,  1.67it/s, Epoch=3, LR=3.48e-6, Train_Acc=0.997, Train_Auc=1, Train_Loss=0.0101]\n",
            "  0%|          | 0/14 [00:17<?, ?it/s, Epoch=3, LR=3.48e-6, Valid_Acc=0.857, Valid_Auc=0.941, Valid_Loss=0.37]\n",
            "INFO:__main__:Epoch 3 - avg_train_loss: 0.0101  avg_val_loss: 0.3697\n",
            "INFO:__main__:Epoch 3 - Train Acc: 0.9971  Train Auc: 1.0000  Valid Acc: 0.8575  Valid Auc: 0.9412\n"
          ]
        },
        {
          "output_type": "stream",
          "name": "stdout",
          "text": [
            "\u001b[34mValidation Score Improved (0.937476026083621 ---> 0.9411839918169032)\n",
            "Model Saved\u001b[0m\n"
          ]
        },
        {
          "output_type": "stream",
          "name": "stderr",
          "text": [
            "100%|██████████| 108/108 [01:04<00:00,  1.68it/s, Epoch=4, LR=1.4e-6, Train_Acc=1, Train_Auc=1, Train_Loss=0.0022]\n",
            "  0%|          | 0/14 [00:18<?, ?it/s, Epoch=4, LR=1.4e-6, Valid_Acc=0.862, Valid_Auc=0.942, Valid_Loss=0.384]\n",
            "INFO:__main__:Epoch 4 - avg_train_loss: 0.0022  avg_val_loss: 0.3844\n",
            "INFO:__main__:Epoch 4 - Train Acc: 1.0000  Train Auc: 1.0000  Valid Acc: 0.8621  Valid Auc: 0.9422\n"
          ]
        },
        {
          "output_type": "stream",
          "name": "stdout",
          "text": [
            "\u001b[34mValidation Score Improved (0.9411839918169032 ---> 0.9422494992115246)\n"
          ]
        },
        {
          "output_type": "stream",
          "name": "stderr",
          "text": [
            "INFO:__main__:Training complete in 0h 5m 56s\n",
            "INFO:__main__:Best Score: 0.9422\n"
          ]
        },
        {
          "output_type": "stream",
          "name": "stdout",
          "text": [
            "Model Saved\u001b[0m\n"
          ]
        },
        {
          "output_type": "stream",
          "name": "stderr",
          "text": [
            "INFO:__main__:========== CV ==========\n",
            "INFO:__main__:CV: 0.9441\n"
          ]
        },
        {
          "output_type": "stream",
          "name": "stdout",
          "text": [
            "\n"
          ]
        }
      ]
    },
    {
      "cell_type": "code",
      "source": [
        "# OOF\n",
        "train_copy.to_csv(ARGS['OUT_DIR'] + f'oof.csv', index=False)"
      ],
      "metadata": {
        "id": "-ApHBsNpSiuP"
      },
      "execution_count": null,
      "outputs": []
    },
    {
      "cell_type": "markdown",
      "source": [
        "## 結果の表示"
      ],
      "metadata": {
        "id": "WCvI0uL0bWlK"
      }
    },
    {
      "cell_type": "code",
      "source": [
        "#sample_submit.csvを読み込みます\n",
        "submit = pd.read_csv(f\"{ARGS['DATA_DIR']}/sample_submit.csv\", header=None)\n",
        "submit.head()"
      ],
      "metadata": {
        "id": "BWWQvQAMbaAc",
        "colab": {
          "base_uri": "https://localhost:8080/",
          "height": 206
        },
        "outputId": "a0a46ff5-29b1-4721-a6c9-4e50c788bc75"
      },
      "execution_count": null,
      "outputs": [
        {
          "output_type": "execute_result",
          "data": {
            "text/plain": [
              "          0         1\n",
              "0  2176.png  0.042909\n",
              "1  2177.png  0.912007\n",
              "2  2178.png  0.511360\n",
              "3  2179.png  0.127935\n",
              "4  2180.png  0.119117"
            ],
            "text/html": [
              "\n",
              "  <div id=\"df-bc675c80-c7ee-4b97-bac9-c31eef312c4f\" class=\"colab-df-container\">\n",
              "    <div>\n",
              "<style scoped>\n",
              "    .dataframe tbody tr th:only-of-type {\n",
              "        vertical-align: middle;\n",
              "    }\n",
              "\n",
              "    .dataframe tbody tr th {\n",
              "        vertical-align: top;\n",
              "    }\n",
              "\n",
              "    .dataframe thead th {\n",
              "        text-align: right;\n",
              "    }\n",
              "</style>\n",
              "<table border=\"1\" class=\"dataframe\">\n",
              "  <thead>\n",
              "    <tr style=\"text-align: right;\">\n",
              "      <th></th>\n",
              "      <th>0</th>\n",
              "      <th>1</th>\n",
              "    </tr>\n",
              "  </thead>\n",
              "  <tbody>\n",
              "    <tr>\n",
              "      <th>0</th>\n",
              "      <td>2176.png</td>\n",
              "      <td>0.042909</td>\n",
              "    </tr>\n",
              "    <tr>\n",
              "      <th>1</th>\n",
              "      <td>2177.png</td>\n",
              "      <td>0.912007</td>\n",
              "    </tr>\n",
              "    <tr>\n",
              "      <th>2</th>\n",
              "      <td>2178.png</td>\n",
              "      <td>0.511360</td>\n",
              "    </tr>\n",
              "    <tr>\n",
              "      <th>3</th>\n",
              "      <td>2179.png</td>\n",
              "      <td>0.127935</td>\n",
              "    </tr>\n",
              "    <tr>\n",
              "      <th>4</th>\n",
              "      <td>2180.png</td>\n",
              "      <td>0.119117</td>\n",
              "    </tr>\n",
              "  </tbody>\n",
              "</table>\n",
              "</div>\n",
              "    <div class=\"colab-df-buttons\">\n",
              "\n",
              "  <div class=\"colab-df-container\">\n",
              "    <button class=\"colab-df-convert\" onclick=\"convertToInteractive('df-bc675c80-c7ee-4b97-bac9-c31eef312c4f')\"\n",
              "            title=\"Convert this dataframe to an interactive table.\"\n",
              "            style=\"display:none;\">\n",
              "\n",
              "  <svg xmlns=\"http://www.w3.org/2000/svg\" height=\"24px\" viewBox=\"0 -960 960 960\">\n",
              "    <path d=\"M120-120v-720h720v720H120Zm60-500h600v-160H180v160Zm220 220h160v-160H400v160Zm0 220h160v-160H400v160ZM180-400h160v-160H180v160Zm440 0h160v-160H620v160ZM180-180h160v-160H180v160Zm440 0h160v-160H620v160Z\"/>\n",
              "  </svg>\n",
              "    </button>\n",
              "\n",
              "  <style>\n",
              "    .colab-df-container {\n",
              "      display:flex;\n",
              "      gap: 12px;\n",
              "    }\n",
              "\n",
              "    .colab-df-convert {\n",
              "      background-color: #E8F0FE;\n",
              "      border: none;\n",
              "      border-radius: 50%;\n",
              "      cursor: pointer;\n",
              "      display: none;\n",
              "      fill: #1967D2;\n",
              "      height: 32px;\n",
              "      padding: 0 0 0 0;\n",
              "      width: 32px;\n",
              "    }\n",
              "\n",
              "    .colab-df-convert:hover {\n",
              "      background-color: #E2EBFA;\n",
              "      box-shadow: 0px 1px 2px rgba(60, 64, 67, 0.3), 0px 1px 3px 1px rgba(60, 64, 67, 0.15);\n",
              "      fill: #174EA6;\n",
              "    }\n",
              "\n",
              "    .colab-df-buttons div {\n",
              "      margin-bottom: 4px;\n",
              "    }\n",
              "\n",
              "    [theme=dark] .colab-df-convert {\n",
              "      background-color: #3B4455;\n",
              "      fill: #D2E3FC;\n",
              "    }\n",
              "\n",
              "    [theme=dark] .colab-df-convert:hover {\n",
              "      background-color: #434B5C;\n",
              "      box-shadow: 0px 1px 3px 1px rgba(0, 0, 0, 0.15);\n",
              "      filter: drop-shadow(0px 1px 2px rgba(0, 0, 0, 0.3));\n",
              "      fill: #FFFFFF;\n",
              "    }\n",
              "  </style>\n",
              "\n",
              "    <script>\n",
              "      const buttonEl =\n",
              "        document.querySelector('#df-bc675c80-c7ee-4b97-bac9-c31eef312c4f button.colab-df-convert');\n",
              "      buttonEl.style.display =\n",
              "        google.colab.kernel.accessAllowed ? 'block' : 'none';\n",
              "\n",
              "      async function convertToInteractive(key) {\n",
              "        const element = document.querySelector('#df-bc675c80-c7ee-4b97-bac9-c31eef312c4f');\n",
              "        const dataTable =\n",
              "          await google.colab.kernel.invokeFunction('convertToInteractive',\n",
              "                                                    [key], {});\n",
              "        if (!dataTable) return;\n",
              "\n",
              "        const docLinkHtml = 'Like what you see? Visit the ' +\n",
              "          '<a target=\"_blank\" href=https://colab.research.google.com/notebooks/data_table.ipynb>data table notebook</a>'\n",
              "          + ' to learn more about interactive tables.';\n",
              "        element.innerHTML = '';\n",
              "        dataTable['output_type'] = 'display_data';\n",
              "        await google.colab.output.renderOutput(dataTable, element);\n",
              "        const docLink = document.createElement('div');\n",
              "        docLink.innerHTML = docLinkHtml;\n",
              "        element.appendChild(docLink);\n",
              "      }\n",
              "    </script>\n",
              "  </div>\n",
              "\n",
              "\n",
              "<div id=\"df-d302fcec-0fb6-4178-bc5d-d098efcee9d2\">\n",
              "  <button class=\"colab-df-quickchart\" onclick=\"quickchart('df-d302fcec-0fb6-4178-bc5d-d098efcee9d2')\"\n",
              "            title=\"Suggest charts.\"\n",
              "            style=\"display:none;\">\n",
              "\n",
              "<svg xmlns=\"http://www.w3.org/2000/svg\" height=\"24px\"viewBox=\"0 0 24 24\"\n",
              "     width=\"24px\">\n",
              "    <g>\n",
              "        <path d=\"M19 3H5c-1.1 0-2 .9-2 2v14c0 1.1.9 2 2 2h14c1.1 0 2-.9 2-2V5c0-1.1-.9-2-2-2zM9 17H7v-7h2v7zm4 0h-2V7h2v10zm4 0h-2v-4h2v4z\"/>\n",
              "    </g>\n",
              "</svg>\n",
              "  </button>\n",
              "\n",
              "<style>\n",
              "  .colab-df-quickchart {\n",
              "    background-color: #E8F0FE;\n",
              "    border: none;\n",
              "    border-radius: 50%;\n",
              "    cursor: pointer;\n",
              "    display: none;\n",
              "    fill: #1967D2;\n",
              "    height: 32px;\n",
              "    padding: 0 0 0 0;\n",
              "    width: 32px;\n",
              "  }\n",
              "\n",
              "  .colab-df-quickchart:hover {\n",
              "    background-color: #E2EBFA;\n",
              "    box-shadow: 0px 1px 2px rgba(60, 64, 67, 0.3), 0px 1px 3px 1px rgba(60, 64, 67, 0.15);\n",
              "    fill: #174EA6;\n",
              "  }\n",
              "\n",
              "  [theme=dark] .colab-df-quickchart {\n",
              "    background-color: #3B4455;\n",
              "    fill: #D2E3FC;\n",
              "  }\n",
              "\n",
              "  [theme=dark] .colab-df-quickchart:hover {\n",
              "    background-color: #434B5C;\n",
              "    box-shadow: 0px 1px 3px 1px rgba(0, 0, 0, 0.15);\n",
              "    filter: drop-shadow(0px 1px 2px rgba(0, 0, 0, 0.3));\n",
              "    fill: #FFFFFF;\n",
              "  }\n",
              "</style>\n",
              "\n",
              "  <script>\n",
              "    async function quickchart(key) {\n",
              "      const charts = await google.colab.kernel.invokeFunction(\n",
              "          'suggestCharts', [key], {});\n",
              "    }\n",
              "    (() => {\n",
              "      let quickchartButtonEl =\n",
              "        document.querySelector('#df-d302fcec-0fb6-4178-bc5d-d098efcee9d2 button');\n",
              "      quickchartButtonEl.style.display =\n",
              "        google.colab.kernel.accessAllowed ? 'block' : 'none';\n",
              "    })();\n",
              "  </script>\n",
              "</div>\n",
              "    </div>\n",
              "  </div>\n"
            ]
          },
          "metadata": {},
          "execution_count": 18
        }
      ]
    },
    {
      "cell_type": "markdown",
      "source": [
        "## Inference"
      ],
      "metadata": {
        "id": "Org1jUADSQ1n"
      }
    },
    {
      "cell_type": "code",
      "source": [
        "# test用のデータ拡張\n",
        "image_transform_test = albu.Compose([\n",
        "    albu.Resize(ARGS[\"image_size\"][0], ARGS[\"image_size\"][1]),\n",
        "    albu.Normalize((0.5, 0.5, 0.5), (0.5, 0.5, 0.5)),\n",
        "    AT.ToTensorV2 ()\n",
        "    ])\n",
        "test_dataset = CustomDataset(submit, image_transform_test, data_type=\"test\")\n",
        "test_loader = DataLoader(test_dataset, batch_size=32, shuffle=False, num_workers=4)"
      ],
      "metadata": {
        "id": "OFk1tFqxbd55"
      },
      "execution_count": null,
      "outputs": []
    },
    {
      "cell_type": "code",
      "source": [
        "@torch.no_grad()\n",
        "def valid_fn(model, dataloader, device):\n",
        "    model.eval()\n",
        "\n",
        "    dataset_size = 0\n",
        "    running_loss = 0.0\n",
        "\n",
        "    predict_list = []\n",
        "\n",
        "    bar = tqdm(enumerate(dataloader), total=len(dataloader))\n",
        "    for step, images in bar:\n",
        "        images = images.to(device)\n",
        "        with torch.no_grad():\n",
        "            outputs = model(images)\n",
        "            #出力にソフトマックス関数を適用\n",
        "            predicts = outputs.softmax(dim=1)\n",
        "\n",
        "        predicts = predicts.cpu().detach().numpy()\n",
        "        predict_list.append(predicts)\n",
        "    predict_list = np.concatenate(predict_list, axis=0)\n",
        "    #予測値が1である確率を提出します。\n",
        "    predict_list = predict_list[:, 1]\n",
        "    gc.collect()\n",
        "\n",
        "    return predict_list"
      ],
      "metadata": {
        "id": "gICyRtmjQEU8"
      },
      "execution_count": null,
      "outputs": []
    },
    {
      "cell_type": "code",
      "source": [
        "def inference(model_paths, dataloader, device):\n",
        "    final_preds = []\n",
        "    for i, path in enumerate(model_paths):\n",
        "        model = create_model(ARGS)\n",
        "        model = model.to(device)\n",
        "\n",
        "        #学習済みモデルの読み込み\n",
        "        model.load_state_dict(torch.load(path))\n",
        "        model.eval()\n",
        "\n",
        "        print(f\"Getting predictions for model {i+1}\")\n",
        "        preds = valid_fn(model, dataloader, device)\n",
        "        final_preds.append(preds)\n",
        "\n",
        "    final_preds = np.array(final_preds)\n",
        "    final_preds = np.mean(final_preds, axis=0)\n",
        "    return final_preds"
      ],
      "metadata": {
        "id": "fASMo8dzQeLD"
      },
      "execution_count": null,
      "outputs": []
    },
    {
      "cell_type": "code",
      "source": [
        "MODEL_PATHS = [\n",
        "    f\"{ARGS['OUT_DIR']}/Score-Fold-{i}.bin\" for i in range(ARGS[\"n_fold\"])\n",
        "]\n",
        "\n",
        "predict_list = inference(MODEL_PATHS, test_loader, ARGS[\"device\"])\n",
        "submit[1] = predict_list\n",
        "submit.head()"
      ],
      "metadata": {
        "id": "jNGBr9KFbnyd",
        "colab": {
          "base_uri": "https://localhost:8080/",
          "height": 386
        },
        "outputId": "d90c0401-32d6-4ddc-ee10-76599dd4eacc"
      },
      "execution_count": null,
      "outputs": [
        {
          "output_type": "stream",
          "name": "stdout",
          "text": [
            "Getting predictions for model 1\n"
          ]
        },
        {
          "output_type": "stream",
          "name": "stderr",
          "text": [
            "100%|██████████| 69/69 [01:14<00:00,  1.08s/it]\n"
          ]
        },
        {
          "output_type": "stream",
          "name": "stdout",
          "text": [
            "Getting predictions for model 2\n"
          ]
        },
        {
          "output_type": "stream",
          "name": "stderr",
          "text": [
            "100%|██████████| 69/69 [01:14<00:00,  1.09s/it]\n"
          ]
        },
        {
          "output_type": "stream",
          "name": "stdout",
          "text": [
            "Getting predictions for model 3\n"
          ]
        },
        {
          "output_type": "stream",
          "name": "stderr",
          "text": [
            "100%|██████████| 69/69 [01:15<00:00,  1.09s/it]\n"
          ]
        },
        {
          "output_type": "stream",
          "name": "stdout",
          "text": [
            "Getting predictions for model 4\n"
          ]
        },
        {
          "output_type": "stream",
          "name": "stderr",
          "text": [
            "100%|██████████| 69/69 [01:14<00:00,  1.08s/it]\n"
          ]
        },
        {
          "output_type": "stream",
          "name": "stdout",
          "text": [
            "Getting predictions for model 5\n"
          ]
        },
        {
          "output_type": "stream",
          "name": "stderr",
          "text": [
            "100%|██████████| 69/69 [01:15<00:00,  1.09s/it]\n"
          ]
        },
        {
          "output_type": "execute_result",
          "data": {
            "text/plain": [
              "          0         1\n",
              "0  2176.png  0.342401\n",
              "1  2177.png  0.271365\n",
              "2  2178.png  0.006202\n",
              "3  2179.png  0.997768\n",
              "4  2180.png  0.000012"
            ],
            "text/html": [
              "\n",
              "  <div id=\"df-0ff58299-554a-4c7e-b32f-9584c33827b2\" class=\"colab-df-container\">\n",
              "    <div>\n",
              "<style scoped>\n",
              "    .dataframe tbody tr th:only-of-type {\n",
              "        vertical-align: middle;\n",
              "    }\n",
              "\n",
              "    .dataframe tbody tr th {\n",
              "        vertical-align: top;\n",
              "    }\n",
              "\n",
              "    .dataframe thead th {\n",
              "        text-align: right;\n",
              "    }\n",
              "</style>\n",
              "<table border=\"1\" class=\"dataframe\">\n",
              "  <thead>\n",
              "    <tr style=\"text-align: right;\">\n",
              "      <th></th>\n",
              "      <th>0</th>\n",
              "      <th>1</th>\n",
              "    </tr>\n",
              "  </thead>\n",
              "  <tbody>\n",
              "    <tr>\n",
              "      <th>0</th>\n",
              "      <td>2176.png</td>\n",
              "      <td>0.342401</td>\n",
              "    </tr>\n",
              "    <tr>\n",
              "      <th>1</th>\n",
              "      <td>2177.png</td>\n",
              "      <td>0.271365</td>\n",
              "    </tr>\n",
              "    <tr>\n",
              "      <th>2</th>\n",
              "      <td>2178.png</td>\n",
              "      <td>0.006202</td>\n",
              "    </tr>\n",
              "    <tr>\n",
              "      <th>3</th>\n",
              "      <td>2179.png</td>\n",
              "      <td>0.997768</td>\n",
              "    </tr>\n",
              "    <tr>\n",
              "      <th>4</th>\n",
              "      <td>2180.png</td>\n",
              "      <td>0.000012</td>\n",
              "    </tr>\n",
              "  </tbody>\n",
              "</table>\n",
              "</div>\n",
              "    <div class=\"colab-df-buttons\">\n",
              "\n",
              "  <div class=\"colab-df-container\">\n",
              "    <button class=\"colab-df-convert\" onclick=\"convertToInteractive('df-0ff58299-554a-4c7e-b32f-9584c33827b2')\"\n",
              "            title=\"Convert this dataframe to an interactive table.\"\n",
              "            style=\"display:none;\">\n",
              "\n",
              "  <svg xmlns=\"http://www.w3.org/2000/svg\" height=\"24px\" viewBox=\"0 -960 960 960\">\n",
              "    <path d=\"M120-120v-720h720v720H120Zm60-500h600v-160H180v160Zm220 220h160v-160H400v160Zm0 220h160v-160H400v160ZM180-400h160v-160H180v160Zm440 0h160v-160H620v160ZM180-180h160v-160H180v160Zm440 0h160v-160H620v160Z\"/>\n",
              "  </svg>\n",
              "    </button>\n",
              "\n",
              "  <style>\n",
              "    .colab-df-container {\n",
              "      display:flex;\n",
              "      gap: 12px;\n",
              "    }\n",
              "\n",
              "    .colab-df-convert {\n",
              "      background-color: #E8F0FE;\n",
              "      border: none;\n",
              "      border-radius: 50%;\n",
              "      cursor: pointer;\n",
              "      display: none;\n",
              "      fill: #1967D2;\n",
              "      height: 32px;\n",
              "      padding: 0 0 0 0;\n",
              "      width: 32px;\n",
              "    }\n",
              "\n",
              "    .colab-df-convert:hover {\n",
              "      background-color: #E2EBFA;\n",
              "      box-shadow: 0px 1px 2px rgba(60, 64, 67, 0.3), 0px 1px 3px 1px rgba(60, 64, 67, 0.15);\n",
              "      fill: #174EA6;\n",
              "    }\n",
              "\n",
              "    .colab-df-buttons div {\n",
              "      margin-bottom: 4px;\n",
              "    }\n",
              "\n",
              "    [theme=dark] .colab-df-convert {\n",
              "      background-color: #3B4455;\n",
              "      fill: #D2E3FC;\n",
              "    }\n",
              "\n",
              "    [theme=dark] .colab-df-convert:hover {\n",
              "      background-color: #434B5C;\n",
              "      box-shadow: 0px 1px 3px 1px rgba(0, 0, 0, 0.15);\n",
              "      filter: drop-shadow(0px 1px 2px rgba(0, 0, 0, 0.3));\n",
              "      fill: #FFFFFF;\n",
              "    }\n",
              "  </style>\n",
              "\n",
              "    <script>\n",
              "      const buttonEl =\n",
              "        document.querySelector('#df-0ff58299-554a-4c7e-b32f-9584c33827b2 button.colab-df-convert');\n",
              "      buttonEl.style.display =\n",
              "        google.colab.kernel.accessAllowed ? 'block' : 'none';\n",
              "\n",
              "      async function convertToInteractive(key) {\n",
              "        const element = document.querySelector('#df-0ff58299-554a-4c7e-b32f-9584c33827b2');\n",
              "        const dataTable =\n",
              "          await google.colab.kernel.invokeFunction('convertToInteractive',\n",
              "                                                    [key], {});\n",
              "        if (!dataTable) return;\n",
              "\n",
              "        const docLinkHtml = 'Like what you see? Visit the ' +\n",
              "          '<a target=\"_blank\" href=https://colab.research.google.com/notebooks/data_table.ipynb>data table notebook</a>'\n",
              "          + ' to learn more about interactive tables.';\n",
              "        element.innerHTML = '';\n",
              "        dataTable['output_type'] = 'display_data';\n",
              "        await google.colab.output.renderOutput(dataTable, element);\n",
              "        const docLink = document.createElement('div');\n",
              "        docLink.innerHTML = docLinkHtml;\n",
              "        element.appendChild(docLink);\n",
              "      }\n",
              "    </script>\n",
              "  </div>\n",
              "\n",
              "\n",
              "<div id=\"df-6ca08388-a642-4c9b-b3bc-ff079998810c\">\n",
              "  <button class=\"colab-df-quickchart\" onclick=\"quickchart('df-6ca08388-a642-4c9b-b3bc-ff079998810c')\"\n",
              "            title=\"Suggest charts.\"\n",
              "            style=\"display:none;\">\n",
              "\n",
              "<svg xmlns=\"http://www.w3.org/2000/svg\" height=\"24px\"viewBox=\"0 0 24 24\"\n",
              "     width=\"24px\">\n",
              "    <g>\n",
              "        <path d=\"M19 3H5c-1.1 0-2 .9-2 2v14c0 1.1.9 2 2 2h14c1.1 0 2-.9 2-2V5c0-1.1-.9-2-2-2zM9 17H7v-7h2v7zm4 0h-2V7h2v10zm4 0h-2v-4h2v4z\"/>\n",
              "    </g>\n",
              "</svg>\n",
              "  </button>\n",
              "\n",
              "<style>\n",
              "  .colab-df-quickchart {\n",
              "    background-color: #E8F0FE;\n",
              "    border: none;\n",
              "    border-radius: 50%;\n",
              "    cursor: pointer;\n",
              "    display: none;\n",
              "    fill: #1967D2;\n",
              "    height: 32px;\n",
              "    padding: 0 0 0 0;\n",
              "    width: 32px;\n",
              "  }\n",
              "\n",
              "  .colab-df-quickchart:hover {\n",
              "    background-color: #E2EBFA;\n",
              "    box-shadow: 0px 1px 2px rgba(60, 64, 67, 0.3), 0px 1px 3px 1px rgba(60, 64, 67, 0.15);\n",
              "    fill: #174EA6;\n",
              "  }\n",
              "\n",
              "  [theme=dark] .colab-df-quickchart {\n",
              "    background-color: #3B4455;\n",
              "    fill: #D2E3FC;\n",
              "  }\n",
              "\n",
              "  [theme=dark] .colab-df-quickchart:hover {\n",
              "    background-color: #434B5C;\n",
              "    box-shadow: 0px 1px 3px 1px rgba(0, 0, 0, 0.15);\n",
              "    filter: drop-shadow(0px 1px 2px rgba(0, 0, 0, 0.3));\n",
              "    fill: #FFFFFF;\n",
              "  }\n",
              "</style>\n",
              "\n",
              "  <script>\n",
              "    async function quickchart(key) {\n",
              "      const charts = await google.colab.kernel.invokeFunction(\n",
              "          'suggestCharts', [key], {});\n",
              "    }\n",
              "    (() => {\n",
              "      let quickchartButtonEl =\n",
              "        document.querySelector('#df-6ca08388-a642-4c9b-b3bc-ff079998810c button');\n",
              "      quickchartButtonEl.style.display =\n",
              "        google.colab.kernel.accessAllowed ? 'block' : 'none';\n",
              "    })();\n",
              "  </script>\n",
              "</div>\n",
              "    </div>\n",
              "  </div>\n"
            ]
          },
          "metadata": {},
          "execution_count": 22
        }
      ]
    },
    {
      "cell_type": "code",
      "source": [
        "submit.to_csv(f\"{ARGS['OUT_DIR']}/submission_CV{scores:.4f}.csv\", index=False, header=None)"
      ],
      "metadata": {
        "id": "FJBtrDVEbomS"
      },
      "execution_count": null,
      "outputs": []
    },
    {
      "cell_type": "markdown",
      "source": [
        "## SIGNATE CLIでSubmit(任意)\n",
        "* signate cli用のAPIキー(signate.json)を`/root/.signate/signate.json`に配置すればsubmit可能"
      ],
      "metadata": {
        "id": "2tzE4s1JNcA3"
      }
    },
    {
      "cell_type": "code",
      "source": [
        "# OUT_DIR=\"./\"\n",
        "# SUBMIT_FILE=f\"{OUT_DIR}/submission_CV{scores:.4f}.csv\"\n",
        "# NOTE=\"StratifiedKfold5-vit_l_16pretrained+imgsize224'\n",
        "\n",
        "# !pip install signate\n",
        "# !cp /content/drive/MyDrive/SIGNATE/signate.json /root/.signate/signate.json\n",
        "# !signate submit --competition-id=1106 {SUBMIT_FILE} --note {NOTE}"
      ],
      "metadata": {
        "id": "tvhyxhQodAjx"
      },
      "execution_count": null,
      "outputs": []
    },
    {
      "cell_type": "code",
      "source": [],
      "metadata": {
        "id": "sJnCc4yGXIWR"
      },
      "execution_count": null,
      "outputs": []
    }
  ]
}